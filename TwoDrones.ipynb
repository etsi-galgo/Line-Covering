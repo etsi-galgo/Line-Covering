{
 "cells": [
  {
   "cell_type": "code",
   "execution_count": 1,
   "id": "08a48527",
   "metadata": {},
   "outputs": [],
   "source": [
    "import numpy as np\n",
    "import random\n",
    "import math"
   ]
  },
  {
   "cell_type": "code",
   "execution_count": 2,
   "id": "f6afa044",
   "metadata": {},
   "outputs": [],
   "source": [
    "def LineGenerate(lenght, m):\n",
    "    \"\"\"\n",
    "    Creating a line with m random segments\n",
    "    \"\"\"\n",
    "    line = np.zeros(lenght,)\n",
    "    ab = np.array(sorted(random.sample(range(0, lenght-1), m*2))) # random start and end of the segments\n",
    "    ab = ab.reshape((m,2)) # start and end of the segments coordinates\n",
    "    # positive points coordinates\n",
    "    ones = np.arange(ab[0,0],ab[0,1])\n",
    "    for i in range(1,m):\n",
    "        ones = np.concatenate((ones, np.arange(ab[i,0],ab[i,1])))\n",
    "    line[ones] = 1  # put the generated segments on the line\n",
    "    return line, ones, ab"
   ]
  },
  {
   "cell_type": "code",
   "execution_count": 3,
   "id": "a53ce770",
   "metadata": {},
   "outputs": [],
   "source": [
    "def FindAssociated(c, ab, base, L):\n",
    "    # distance from the farthest point to the base\n",
    "    b = math.sqrt(c**2+base[1]**2)\n",
    "    # distance from the farthest point to greedy\n",
    "    dist = (L**2-2*L*b)/(2*(L-b-c))\n",
    "    c_ass = c-dist\n",
    "    for i in range(0,ab.shape[0]):\n",
    "        if (c_ass > ab[i-1,1]) & (c_ass < ab[i,0]):\n",
    "            c_ass = ab[i,0]\n",
    "        if (c_ass < ab[0,0]):\n",
    "            c_ass = ab[0,0]  \n",
    "    return c_ass\n"
   ]
  },
  {
   "cell_type": "code",
   "execution_count": 4,
   "id": "1c6f4e18",
   "metadata": {},
   "outputs": [],
   "source": [
    "def Candidates(base, L, ab):\n",
    "    on_gap = False\n",
    "    xB = ab[ab.shape[0]-1,1]\n",
    "    c = np.array(xB)\n",
    "    while not on_gap:\n",
    "        # distance from the farthest point to the base\n",
    "        b = math.sqrt(xB**2+base[1]**2)\n",
    "        # distance from the farthest point to greedy\n",
    "        dist = (L**2-2*L*b)/(2*(L-b-xB))\n",
    "        # greedy point coordinate\n",
    "        xA = xB-dist\n",
    "        c = np.append(c, xA)\n",
    "        xB = xA\n",
    "        for i in range(0,ab.shape[0]):\n",
    "            if (xA > ab[i-1,1]) & (xA < ab[i,0]):\n",
    "                on_gap = True \n",
    "            if (xA < ab[0,0]):\n",
    "                on_gap = True \n",
    "    c = c[:c.size-1]\n",
    "    return c"
   ]
  },
  {
   "cell_type": "code",
   "execution_count": 5,
   "id": "1eb925bb",
   "metadata": {},
   "outputs": [],
   "source": [
    "def AllCandidates(base, L, ab):\n",
    "    ab_cut = ab\n",
    "    c = np.empty(0)\n",
    "    while not (ab_cut.size == 0):\n",
    "        c_i = Candidates(base, L, ab_cut)\n",
    "        c = np.append(c, c_i)       \n",
    "        ab_cut = ab_cut[:ab_cut.shape[0]-1]\n",
    "    return c"
   ]
  },
  {
   "cell_type": "code",
   "execution_count": 6,
   "id": "8578a7a4",
   "metadata": {},
   "outputs": [],
   "source": [
    "def SegmentNumber(c, ab):\n",
    "    for i in range(0,ab.shape[0]):\n",
    "        if (c >= ab[i,0]) & (c <= ab[i,1]):\n",
    "            return i  "
   ]
  },
  {
   "cell_type": "code",
   "execution_count": 7,
   "id": "8549b149",
   "metadata": {},
   "outputs": [],
   "source": [
    "def TourLenght(point1, point2, base):\n",
    "    return max(point1, point2) - min(point1, point2) + math.sqrt(point1**2+base[1]**2) + math.sqrt(point2**2+base[1]**2)"
   ]
  },
  {
   "cell_type": "code",
   "execution_count": 8,
   "id": "4599232e",
   "metadata": {},
   "outputs": [],
   "source": [
    "def SeparateLeftRight(ab, base):\n",
    "    ab_right = ab[np.argmax(ab[:,0] > base[0]):] - base[0]\n",
    "    ab_left = np.flip(base[0] - ab[:np.argmax(ab[:,1] > base[0])])\n",
    "    for i in range(0,ab.shape[0]):\n",
    "        if (base[0] > ab[i,0]) & (base[0] < ab[i,1]):\n",
    "            central_right = np.array([[base[0], ab[i,1]]])-base[0]\n",
    "            central_left = -(np.array([[base[0],ab[i,0]]])-base[0])\n",
    "            ab_right = np.append(central_right, ab_right, axis=0)\n",
    "            ab_left = np.append(central_left, ab_left, axis=0)\n",
    "    return ab_left, ab_right"
   ]
  },
  {
   "cell_type": "code",
   "execution_count": 9,
   "id": "24e26c64",
   "metadata": {},
   "outputs": [],
   "source": [
    "def FindCentralTours(c_left, c_right , base, L):\n",
    "    j = 0\n",
    "    central_tours = np.empty((0,3))\n",
    "    tour_lenght = 0\n",
    "    while (tour_lenght <= L) and (j < c_left.size):\n",
    "        central_tours_1 = np.empty((0,3))\n",
    "        i = 0\n",
    "        while (tour_lenght <= L) and (i < c_right.size):\n",
    "            dist_left = math.sqrt(c_left[j]**2+base[1]**2)\n",
    "            dist_right = math.sqrt(c_right[i]**2+base[1]**2)\n",
    "            tour_lenght = c_left[j] + c_right[i] + dist_left + dist_right\n",
    "            tour = np.array((c_left[j], c_right[i], tour_lenght)).reshape(1,3)\n",
    "            central_tours_1 = np.append(central_tours_1, tour, axis=0)\n",
    "            i += 1\n",
    "        central_tours = np.append(central_tours, central_tours_1[central_tours_1[:,2]<=L,:], axis=0)\n",
    "        tour_lenght = 0\n",
    "        j += 1\n",
    "    return central_tours"
   ]
  },
  {
   "cell_type": "code",
   "execution_count": 10,
   "id": "480c134c",
   "metadata": {},
   "outputs": [],
   "source": [
    "def DPwithPoints(c, ab, base, L):   \n",
    "    c = np.sort(c)  \n",
    "    E = np.zeros(c.size) # check if zeros are ok\n",
    "    Start_Points = np.zeros((c.size,c.size)) # check if zeros are ok\n",
    "    End_Points = np.zeros((c.size,c.size))\n",
    "\n",
    "    for k in range(0, c.size):\n",
    "        c_ass = FindAssociated(c[k], ab, base, L)\n",
    "        \n",
    "        j = np.arange(SegmentNumber(c_ass, ab), SegmentNumber(c[k], ab)+1)  \n",
    "    \n",
    "        if c_ass == ab[0,0]:\n",
    "            E[k] = TourLenght(c[k], ab[0,0], base)  \n",
    "            \n",
    "            Start_Points[k,0] = c[k]\n",
    "            End_Points[k,0] = ab[0,0]\n",
    "            \n",
    "        elif c_ass in ab[1:,0]:      \n",
    "            \n",
    "            func = np.empty(0)\n",
    "            for i in j:\n",
    "                func = np.append(func, TourLenght(c[k], ab[i,0], base) + E[c.tolist().index(ab[i-1,1])])\n",
    "            E[k] = min(func)\n",
    "            index_min = np.argmin(func)+j[0]\n",
    "            \n",
    "            Start_Points[k,:] = Start_Points[c.tolist().index(ab[index_min-1,1]),:]\n",
    "            End_Points[k,:] = End_Points[c.tolist().index(ab[index_min-1,1]),:]\n",
    "                                   \n",
    "            Start_Points[k, np.argmax(Start_Points[k,:]==0)] = c[k]\n",
    "            End_Points[k, np.argmax(End_Points[k,:]==0)] = ab[index_min,0]\n",
    "    \n",
    "        else:             \n",
    "            func = np.empty(0)\n",
    "            if (c_ass < ab[SegmentNumber(c[k], ab),0]): \n",
    "                for i in j[1:]:\n",
    "                    func = np.append(func, TourLenght(c[k], ab[i,0], base) + E[c.tolist().index(ab[i-1,1])])  \n",
    "            else:\n",
    "                func = [1000000.0]\n",
    "            func2 = L + E[c.tolist().index(c_ass)]\n",
    "            \n",
    "            if (func2>min(func)):\n",
    "                index_min = np.argmin(func)+j[0]\n",
    "                Start_Points[k,:] = Start_Points[c.tolist().index(ab[index_min-1,1]),:]\n",
    "                End_Points[k,:] = End_Points[c.tolist().index(ab[index_min-1,1]),:]\n",
    "                End_Points[k,np.argmax(End_Points[k,:]==0)] = ab[index_min,0]\n",
    "            else:\n",
    "                Start_Points[k,:] = Start_Points[c.tolist().index(c_ass),:] \n",
    "                End_Points[k,np.argmax(End_Points[k,:]==0)] = c_ass\n",
    "                \n",
    "            Start_Points[k,np.argmax(Start_Points[k,:]==0)] = c[k]\n",
    "                                 \n",
    "            E[k] = min(func2, min(func))\n",
    "            \n",
    "    Start_Points = Start_Points[c.size-1]\n",
    "    End_Points = End_Points[c.size-1]\n",
    "    return E[c.size-1], Start_Points[Start_Points>0], End_Points[End_Points>0]"
   ]
  },
  {
   "cell_type": "code",
   "execution_count": 11,
   "id": "d2523aa0",
   "metadata": {},
   "outputs": [],
   "source": [
    "def OneSideWithPoints(c, c_first, ab):\n",
    "    E = np.zeros(c_first.size)\n",
    "    StartPoints = np.zeros((c_first.size,c.size))\n",
    "    EndPoints = np.zeros((c_first.size,c.size))\n",
    "    ab_i = ab.astype(np.float64)\n",
    "    for i in range(0, c_first.size):\n",
    "        if c_first[i] != ab_i[0,1]:\n",
    "            ab_i[0,0] = c_first[i]\n",
    "        else:\n",
    "            ab_i = ab[ab[:,0]>c_first[i]].astype(np.float64)\n",
    "        if (c[c>c_first[i]].size != 0):\n",
    "            E[i],  Start_Points, End_Points = DPwithPoints(c[c>c_first[i]], ab_i, base, L) \n",
    "            StartPoints[i,:Start_Points.size] = Start_Points\n",
    "            EndPoints[i,:End_Points.size] = End_Points\n",
    "            \n",
    "        else: E[i] = 0\n",
    "    return E, StartPoints, EndPoints"
   ]
  },
  {
   "cell_type": "code",
   "execution_count": 12,
   "id": "d64882c3",
   "metadata": {},
   "outputs": [],
   "source": [
    "def JoinTours(StartPoints, EndPoints):\n",
    "    Start = np.array([StartPoints[StartPoints>0]])\n",
    "    End = np.array([EndPoints[EndPoints>0]])\n",
    "    \n",
    "    return np.append(Start, End, axis = 0)"
   ]
  },
  {
   "cell_type": "code",
   "execution_count": 13,
   "id": "331991f6",
   "metadata": {},
   "outputs": [],
   "source": [
    "def BothSidesWithPoints(ab, base, L):\n",
    "    ab_left, ab_right = SeparateLeftRight(ab, base)\n",
    "    \n",
    "    c_right = np.sort(AllCandidates(base, L, ab_right))\n",
    "    c_left =  np.sort(AllCandidates(base, L, ab_left))\n",
    "    \n",
    "    central_tours = FindCentralTours(c_left, c_right , base, L)\n",
    "    \n",
    "    if not (central_tours.size == 0):  \n",
    "        c_left_first = np.unique(np.sort(central_tours[:,0]))\n",
    "        c_right_first = np.unique(np.sort(central_tours[:,1]))   \n",
    "        \n",
    "        E_left, StartPoints_left, EndPoints_left = OneSideWithPoints(c_left, c_left_first, ab_left)\n",
    "        E_right, StartPoints_right, EndPoints_right = OneSideWithPoints(c_right, c_right_first, ab_right)\n",
    "        \n",
    "        left_central = np.append(c_left_first.reshape(E_left.shape[0],1), E_left.reshape(E_left.shape[0],1), axis=1)\n",
    "        right_central = np.append(c_right_first.reshape(E_right.shape[0],1), E_right.reshape(E_right.shape[0],1), axis=1)\n",
    "      \n",
    "        totalL = np.zeros(central_tours.shape[0])\n",
    "        for i in range (0, central_tours.shape[0]):\n",
    "            a = tuple(np.argwhere(left_central == central_tours[i,0])[0])\n",
    "            b = tuple(np.argwhere(right_central == central_tours[i,1])[0])\n",
    "            totalL[i] = left_central[a[0],1] + right_central[b[0],1] + float(central_tours[i,2])\n",
    "        \n",
    "        c = tuple(np.argwhere(left_central == central_tours[np.argmin(totalL),0])[0])\n",
    "        d = tuple(np.argwhere(right_central == central_tours[np.argmin(totalL),1])[0])\n",
    "    else: \n",
    "        totalL = np.array([10000])\n",
    "              \n",
    "\n",
    "    E_left_max, StartPoints_left_max, EndPoints_left_max = DPwithPoints(c_left, ab_left, base, L)\n",
    "    E_right_max, StartPoints_right_max, EndPoints_right_max = DPwithPoints(c_right, ab_right, base, L)\n",
    "    \n",
    "    print(StartPoints_right_max)\n",
    "    print(EndPoints_right_max)\n",
    "    \n",
    "    if (E_left_max + E_right_max) < min(totalL):\n",
    "        \n",
    "        Tour_right = JoinTours(StartPoints_right_max, EndPoints_right_max) + base[0]\n",
    "        #Tour_right = JoinTours(StartPoints_right_max, EndPoints_right_max) + base[0]\n",
    "        Tour_right = Tour_right[ ::-1, :]\n",
    "        Tour_left = base[0] - JoinTours(StartPoints_left_max, EndPoints_left_max)\n",
    "        #Tour_left = base[0] - JoinTours(StartPoints_left_max[0], EndPoints_left_max[0])\n",
    "        Tour = np.append(Tour_left, Tour_right, axis = 1)\n",
    "        \n",
    "    else:       \n",
    "        Tour_right = JoinTours(StartPoints_right[d[0]], EndPoints_right[d[0]]) + base[0]\n",
    "        Tour_right = Tour_right[ ::-1, :]\n",
    "        Tour_left = base[0] - JoinTours(StartPoints_left[c[0]], EndPoints_left[c[0]])\n",
    "        Tour_central = np.array([[base[0] - central_tours[np.argmin(totalL),0], central_tours[np.argmin(totalL),1] + base[0]]]).reshape((2, 1))\n",
    "        \n",
    "        Tour = np.append(Tour_left, Tour_central, axis = 1)\n",
    "        Tour = np.append(Tour, Tour_right, axis = 1)\n",
    "        \n",
    "    TotalLenght = min((E_left_max + E_right_max), min(totalL)) \n",
    "    \n",
    "    for i in range(Tour.shape[1]):\n",
    "        print('Tour', i+1, 'start:', Tour[0,i])\n",
    "        print('Tour', i+1, 'end:', Tour[1,i])\n",
    "        print('Tour', i+1, 'lenght:', TourLenght(abs(Tour[0,i]-base[0]), abs(Tour[1,i]-base[0]), base))\n",
    "    print('Total number of tours:', Tour.shape[1])\n",
    "    print('Total lenght:', TotalLenght)\n",
    "    \n",
    "    return Tour, TotalLenght"
   ]
  },
  {
   "cell_type": "code",
   "execution_count": 14,
   "id": "244ea9bf",
   "metadata": {},
   "outputs": [],
   "source": [
    "line, ones, ab = LineGenerate(400, 10)\n",
    "base = np.array((200,500)) # base station coordinates\n",
    "L = 1120"
   ]
  },
  {
   "cell_type": "code",
   "execution_count": 15,
   "id": "892d6516",
   "metadata": {},
   "outputs": [
    {
     "data": {
      "text/plain": [
       "array([[ 11,  54],\n",
       "       [143, 170],\n",
       "       [223, 260],\n",
       "       [261, 275],\n",
       "       [279, 284],\n",
       "       [288, 296],\n",
       "       [297, 303],\n",
       "       [331, 338],\n",
       "       [340, 348],\n",
       "       [362, 391]])"
      ]
     },
     "execution_count": 15,
     "metadata": {},
     "output_type": "execute_result"
    }
   ],
   "source": [
    "ab"
   ]
  },
  {
   "cell_type": "code",
   "execution_count": 16,
   "id": "1b44d808",
   "metadata": {},
   "outputs": [
    {
     "name": "stdout",
     "output_type": "stream",
     "text": [
      "[103. 191.]\n",
      "[ 23. 131.]\n",
      "Tour 1 start: 143.0\n",
      "Tour 1 end: 170.0\n",
      "Tour 1 lenght: 1031.137703494496\n",
      "Tour 2 start: 11.0\n",
      "Tour 2 end: 54.0\n",
      "Tour 2 lenght: 1098.408789000933\n",
      "Tour 3 start: 223.0\n",
      "Tour 3 end: 303.0\n",
      "Tour 3 lenght: 1091.0274961633008\n",
      "Tour 4 start: 331.0\n",
      "Tour 4 end: 391.0\n",
      "Tour 4 lenght: 1112.1153929370519\n",
      "Total number of tours: 4\n",
      "Total lenght: 4332.689381595781\n"
     ]
    }
   ],
   "source": [
    "Tour, TotalLenght = BothSidesWithPoints(ab, base, L)\n",
    "Tour = np.transpose(Tour)\n",
    "Tour = Tour - base[0]"
   ]
  },
  {
   "cell_type": "code",
   "execution_count": 17,
   "id": "3a0235e2",
   "metadata": {},
   "outputs": [],
   "source": [
    "def FindTheFarthest(base,first,last):\n",
    "    \"\"\"\n",
    "    Looking for the farthest point from the base\n",
    "    \"\"\"\n",
    "    # distances to the base station\n",
    "    fdist = math.sqrt(first**2+base[1]**2)\n",
    "    ldist = math.sqrt(last**2+base[1]**2)\n",
    "\n",
    "    # comparing the distances\n",
    "    if fdist > ldist:\n",
    "        farthest = first\n",
    "        dist = fdist\n",
    "    else:\n",
    "        farthest = last\n",
    "        dist = ldist\n",
    "    \n",
    "    return farthest, dist"
   ]
  },
  {
   "cell_type": "code",
   "execution_count": 18,
   "id": "166a67e5",
   "metadata": {},
   "outputs": [],
   "source": [
    "def TourLength(tour):\n",
    "    dist_left = math.sqrt(tour[0]**2+base[1]**2)\n",
    "    dist_right = math.sqrt(tour[1]**2+base[1]**2)\n",
    "    tour_lenght = abs(tour[0]-tour[1]) + dist_left + dist_right\n",
    "    return tour_lenght"
   ]
  },
  {
   "cell_type": "code",
   "execution_count": 20,
   "id": "1a0e6fdc",
   "metadata": {},
   "outputs": [],
   "source": [
    "def OneToEachDisribution(Tour):\n",
    "    Tour1 = np.empty(0)\n",
    "    Tour2 = np.empty(0)\n",
    "    while Tour.size>1:\n",
    "        farthest, dist = FindTheFarthest(base,Tour[0,0],Tour[Tour.shape[0]-1,1])\n",
    "        if farthest == Tour[0,0]:\n",
    "            Tour1 = np.append(Tour1, Tour[0])\n",
    "            Tour = Tour[1:]\n",
    "        else:\n",
    "            Tour1 = np.append(Tour1, Tour[Tour.shape[0]-1])\n",
    "            Tour = Tour[:Tour.shape[0]-1]\n",
    "        \n",
    "        farthest, dist = FindTheFarthest(base,Tour[0,0],Tour[Tour.shape[0]-1,1])\n",
    "        if farthest == Tour[0,0]:\n",
    "            Tour2 = np.append(Tour2, Tour[0])\n",
    "            Tour = Tour[1:]\n",
    "        else:\n",
    "            Tour2 = np.append(Tour2, Tour[Tour.shape[0]-1])\n",
    "            Tour = Tour[:Tour.shape[0]-1]  \n",
    "            \n",
    "    return Tour1, Tour2"
   ]
  },
  {
   "cell_type": "code",
   "execution_count": 19,
   "id": "3f45a4fc",
   "metadata": {},
   "outputs": [],
   "source": [
    "def ToTheMinDisribution(Tour):\n",
    "    Tour1 = np.empty(0)\n",
    "    Tour2 = np.empty(0)\n",
    "    M1 = 0\n",
    "    M2 = 0\n",
    "    while Tour.size>1:\n",
    "        farthest, dist = FindTheFarthest(base,Tour[0,0],Tour[Tour.shape[0]-1,1])\n",
    "        if farthest == Tour[0,0]:\n",
    "            if M1 < M2:\n",
    "                Tour1 = np.append(Tour1, Tour[0])\n",
    "                M1 += TourLength(Tour[0])\n",
    "            else:\n",
    "                Tour2 = np.append(Tour2, Tour[0])\n",
    "                M2 += TourLength(Tour[0])\n",
    "            Tour = Tour[1:]\n",
    "        else:\n",
    "            if M1 < M2:\n",
    "                Tour1 = np.append(Tour1, Tour[Tour.shape[0]-1])\n",
    "                M1 += TourLength(Tour[Tour.shape[0]-1])\n",
    "            else:\n",
    "                Tour2 = np.append(Tour2, Tour[Tour.shape[0]-1])\n",
    "                M2 += TourLength(Tour[Tour.shape[0]-1])\n",
    "            Tour = Tour[:Tour.shape[0]-1]\n",
    "    Tour1 = Tour1.reshape(Tour1.shape[0]//2,2)\n",
    "    Tour2 = Tour2.reshape(Tour2.shape[0]//2,2)\n",
    "    if M1 > M2:\n",
    "        Tour1, Tour2 = Tour2, Tour1\n",
    "        M1, M2 = M2, M1\n",
    "\n",
    "    print(\"T1 =\", Tour1)\n",
    "    print(\"T1 total length: M1 =\", M1)\n",
    "    print(\"T2 =\",Tour2)\n",
    "    print(\"T2 total length: M2 =\", M2)   \n",
    "    return Tour1, Tour2, M1, M2"
   ]
  },
  {
   "cell_type": "code",
   "execution_count": 21,
   "id": "21bf726b",
   "metadata": {},
   "outputs": [],
   "source": [
    "def GetSubTour1(Tour, Tour1): \n",
    "    T11 = np.empty(0)\n",
    "    for tour in Tour1:\n",
    "        if TourLength(tour)<L:\n",
    "            T11 = np.append(T11, tour)\n",
    "    T11 = T11.reshape(T11.shape[0]//2,2)\n",
    "\n",
    "    T1 = np.empty(0)\n",
    "    \n",
    "    for tour in T11:\n",
    "        a = np.where(Tour == tour)[0][0]\n",
    "        if a < Tour.shape[0]-1:\n",
    "            if (TourLength(Tour[a+1]) >= L) and (Tour[a,1] == Tour[a+1,0]):\n",
    "                T1_right = np.append(T1_right, tour)\n",
    "                \n",
    "            if (TourLength(Tour[a-1]) >= L) and (Tour[a,0] == Tour[a-1,0]):\n",
    "                T1_left = np.append(T1_left, tour)\n",
    "    \n",
    "    return T1_right.reshape(T1_right.shape[0]//2,2),  T1_left.reshape(T1_left.shape[0]//2,2)"
   ]
  },
  {
   "cell_type": "code",
   "execution_count": 22,
   "id": "9fe723f1",
   "metadata": {},
   "outputs": [],
   "source": [
    "def GetSubTour2(Tour2, base):    \n",
    "    T2 = np.empty(0)\n",
    "    for tour in Tour2:\n",
    "        dist_left = math.sqrt(tour[0]**2+base[1]**2)\n",
    "        dist_right = math.sqrt(tour[1]**2+base[1]**2)\n",
    "        if (dist_left + dist_right)<l:\n",
    "            T2 = np.append(T2, tour)\n",
    "    return T2.reshape(T2.shape[0]//2,2)"
   ]
  },
  {
   "cell_type": "code",
   "execution_count": 23,
   "id": "5a7a17e5",
   "metadata": {},
   "outputs": [],
   "source": [
    "def FindXR(tour, base,l):\n",
    "    if abs(tour[1]) > abs(tour[0]):\n",
    "        closest = abs(tour[0])\n",
    "    else:\n",
    "        closest = abs(tour[1])\n",
    "    \n",
    "    a = math.sqrt(closest**2+base[1]**2)\n",
    "    x = (l-a*2)/2\n",
    "    d = math.sqrt((closest+x)**2+base[1]**2)\n",
    "    r = d - a - x\n",
    "    return x, r"
   ]
  },
  {
   "cell_type": "code",
   "execution_count": 24,
   "id": "74ce152d",
   "metadata": {},
   "outputs": [],
   "source": [
    "def FindXS(tour, base,l):\n",
    "    if abs(tour[1]) > abs(tour[0]):\n",
    "        farthest = abs(tour[1])\n",
    "    else:\n",
    "        farthest = abs(tour[0])  \n",
    "    x = l/2\n",
    "    c = math.sqrt(farthest**2+base[1]**2)\n",
    "    d = math.sqrt((farthest+x)**2+base[1]**2)\n",
    "    s = d - c - x\n",
    "    return x, s"
   ]
  },
  {
   "cell_type": "code",
   "execution_count": 25,
   "id": "642c4d8e",
   "metadata": {},
   "outputs": [
    {
     "name": "stdout",
     "output_type": "stream",
     "text": [
      "T1 =  [[-189. -146.]\n",
      " [ -57.  -30.]\n",
      " [  23.  103.]\n",
      " [ 131.  191.]]\n"
     ]
    }
   ],
   "source": [
    "\"STEP 2\"\n",
    "Tour = np.sort(Tour, axis = 0)\n",
    "print('T1 = ', Tour)"
   ]
  },
  {
   "cell_type": "code",
   "execution_count": 26,
   "id": "17082e28",
   "metadata": {},
   "outputs": [
    {
     "name": "stdout",
     "output_type": "stream",
     "text": [
      "T1 = [[131. 191.]\n",
      " [-57. -30.]]\n",
      "T1 total length: M1 = 2143.253096431548\n",
      "T2 = [[-189. -146.]\n",
      " [  23.  103.]]\n",
      "T2 total length: M2 = 2189.4362851642336\n"
     ]
    }
   ],
   "source": [
    "\"STEP 3\"\n",
    "Tour1, Tour2, M1, M2 = ToTheMinDisribution(Tour)"
   ]
  },
  {
   "cell_type": "code",
   "execution_count": 27,
   "id": "6a353bb8",
   "metadata": {},
   "outputs": [],
   "source": [
    "\"STEP 4\"\n",
    "l = M2 - M1\n",
    "A = M1 + l/2"
   ]
  },
  {
   "cell_type": "code",
   "execution_count": 28,
   "id": "54c768ce",
   "metadata": {},
   "outputs": [],
   "source": [
    "\"STEP 5\"\n",
    "SubTour2 = GetSubTour2(Tour2, base)\n",
    "\"STEP 6\"\n",
    "SubTour1_right,  SubTour1_left= GetSubTour1(Tour, Tour1)"
   ]
  },
  {
   "cell_type": "code",
   "execution_count": 29,
   "id": "f9e4a1c5",
   "metadata": {},
   "outputs": [],
   "source": [
    "\"STEP 7\"\n",
    "xr = np.empty(0)\n",
    "r = np.empty(0)\n",
    "for tour in SubTour2:    \n",
    "    x_k, r_k = FindXR(tour, base, l)\n",
    "    xr = np.append(xr, x_k)\n",
    "    r = np.append(r, r_k)  \n",
    "    \n",
    "    print(\"t = \", tour)      \n",
    "    print(\"xr = \", xr)    \n",
    "    print(\"r = \", r)\n",
    "    print(\"_____________\")"
   ]
  },
  {
   "cell_type": "code",
   "execution_count": 30,
   "id": "fec46490",
   "metadata": {},
   "outputs": [],
   "source": [
    "\"STEP 8\"\n",
    "xs = np.empty(0)\n",
    "s = np.empty(0)\n",
    "for tour in SubTour1_right:\n",
    "    x_n, s_n = FindXS(tour, base, l)\n",
    "    xs_right = np.append (xs,  x_n)\n",
    "    s = np.append(s, s_n)\n",
    "\n",
    "for tour in SubTour1_left:\n",
    "    x_n, s_n = FindXS(tour, base, l)\n",
    "    xs_left = np.append (xs,  x_n)\n",
    "    s = np.append(s, s_n)"
   ]
  },
  {
   "cell_type": "code",
   "execution_count": 31,
   "id": "965806da",
   "metadata": {},
   "outputs": [],
   "source": [
    "\"STEP 9\"\n",
    "if (s.size > 0) and (s.size > 0):\n",
    "    minrs = min(np.min(r), np.min(s))\n",
    "else: \n",
    "    if r.size > 0:\n",
    "        minrs = np.min(r)\n",
    "    else:\n",
    "        if s.size > 0:\n",
    "            minrs = np.min(s)\n",
    "        else:\n",
    "            minrs = 0    "
   ]
  },
  {
   "cell_type": "code",
   "execution_count": 32,
   "id": "15abb34c",
   "metadata": {},
   "outputs": [],
   "source": [
    "\"STEP 10\"\n",
    "# We are going from the base one by one, right?\n",
    "# Is it posible we need to devide not the closest? Should we compare?\n",
    "if minrs != 0:\n",
    "    if minrs == np.min(r):\n",
    "        if abs(Tour2[Tour2.shape[0]-1, 1]) < abs(Tour2[Tour2.shape[0]-1, 0]):\n",
    "            a = Tour2[Tour2.shape[0]-1, 1]\n",
    "            Tour2[Tour2.shape[0]-1, 1] = Tour2[Tour2.shape[0]-1, 1] - xr[Tour2.shape[0]-1] \n",
    "            newTour = np.array([Tour2[Tour2.shape[0]-1, 1], a])        \n",
    "        else:\n",
    "            a = Tour2[Tour2.shape[0]-1, 0]\n",
    "            Tour2[Tour2.shape[0]-1, 0] = Tour2[Tour2.shape[0]-1, 0] + xr[Tour2.shape[0]-1] \n",
    "            newTour = np.array([a, Tour2[Tour2.shape[0]-1, 0]])\n",
    "        Tour1 = np.append(Tour1, newTour)\n",
    "        \n",
    "    if Tour1.shape[0]>1:\n",
    "        Tour1 = Tour1.reshape(Tour1.shape[0]//2,2)"
   ]
  },
  {
   "cell_type": "code",
   "execution_count": 33,
   "id": "ebf7c486",
   "metadata": {},
   "outputs": [],
   "source": [
    "\"STEP 11\"\n",
    "if minrs != 0:\n",
    "    if minrs == np.min(s):\n",
    "        \n",
    "        Tour1[0,1] = Tour1[0,1]+xs_right[0]\n",
    "        Tour2[0,0] = Tour2[0,0]+xs_right[0]\n",
    "        \n",
    "        "
   ]
  },
  {
   "cell_type": "code",
   "execution_count": 34,
   "id": "0fd928e1",
   "metadata": {},
   "outputs": [
    {
     "data": {
      "text/plain": [
       "array([[-189, -146],\n",
       "       [ -57,  -30],\n",
       "       [  23,   60],\n",
       "       [  61,   75],\n",
       "       [  79,   84],\n",
       "       [  88,   96],\n",
       "       [  97,  103],\n",
       "       [ 131,  138],\n",
       "       [ 140,  148],\n",
       "       [ 162,  191]])"
      ]
     },
     "execution_count": 34,
     "metadata": {},
     "output_type": "execute_result"
    }
   ],
   "source": [
    "ab-base[0]"
   ]
  },
  {
   "cell_type": "code",
   "execution_count": 35,
   "id": "0c1ba5a8",
   "metadata": {
    "scrolled": true
   },
   "outputs": [
    {
     "data": {
      "text/plain": [
       "array([[131., 191.],\n",
       "       [-57., -30.]])"
      ]
     },
     "execution_count": 35,
     "metadata": {},
     "output_type": "execute_result"
    }
   ],
   "source": [
    "Tour1"
   ]
  },
  {
   "cell_type": "code",
   "execution_count": 36,
   "id": "68abb1fc",
   "metadata": {},
   "outputs": [
    {
     "data": {
      "text/plain": [
       "array([[-189., -146.],\n",
       "       [  23.,  103.]])"
      ]
     },
     "execution_count": 36,
     "metadata": {},
     "output_type": "execute_result"
    }
   ],
   "source": [
    "Tour2"
   ]
  },
  {
   "cell_type": "code",
   "execution_count": 37,
   "id": "db5fc772",
   "metadata": {},
   "outputs": [],
   "source": [
    "Tour1Lenght = 0\n",
    "Tour2Lenght = 0\n",
    "for tour in Tour1:\n",
    "    Tour1Lenght += TourLength(tour)\n",
    "for tour in Tour2:\n",
    "    Tour2Lenght += TourLength(tour)    "
   ]
  },
  {
   "cell_type": "code",
   "execution_count": 38,
   "id": "520f3146",
   "metadata": {},
   "outputs": [
    {
     "data": {
      "text/plain": [
       "2143.253096431548"
      ]
     },
     "execution_count": 38,
     "metadata": {},
     "output_type": "execute_result"
    }
   ],
   "source": [
    "Tour1Lenght"
   ]
  },
  {
   "cell_type": "code",
   "execution_count": 39,
   "id": "d6dd2ae7",
   "metadata": {},
   "outputs": [
    {
     "data": {
      "text/plain": [
       "2189.4362851642336"
      ]
     },
     "execution_count": 39,
     "metadata": {},
     "output_type": "execute_result"
    }
   ],
   "source": [
    "Tour2Lenght"
   ]
  },
  {
   "cell_type": "code",
   "execution_count": 40,
   "id": "bc9cd907",
   "metadata": {},
   "outputs": [],
   "source": [
    "# Questions\n",
    "# STEP 10: Is it posible we need to devide not the closest? Should we compare?"
   ]
  },
  {
   "cell_type": "code",
   "execution_count": 41,
   "id": "7edd6c73",
   "metadata": {},
   "outputs": [],
   "source": [
    "# Cases:\n",
    "# 5 Tours -> divide\n",
    "# 4 Tours -> nothing\n",
    "# 2 Tour -> enlarge"
   ]
  },
  {
   "cell_type": "code",
   "execution_count": 42,
   "id": "ca11e5a9",
   "metadata": {},
   "outputs": [],
   "source": [
    "# TODO:\n",
    "# STEP 11\n",
    "# Universal case\n",
    "# *Enlarge to the left\n",
    "\n",
    "# DP\n",
    "# Error with few tours (StartPoints_right_max, EndPoints_right_max) array sizes   \n",
    "\n",
    "# Clear code and write better the algothm"
   ]
  },
  {
   "cell_type": "code",
   "execution_count": null,
   "id": "f00b047a",
   "metadata": {},
   "outputs": [],
   "source": []
  }
 ],
 "metadata": {
  "kernelspec": {
   "display_name": "Python 3 (ipykernel)",
   "language": "python",
   "name": "python3"
  },
  "language_info": {
   "codemirror_mode": {
    "name": "ipython",
    "version": 3
   },
   "file_extension": ".py",
   "mimetype": "text/x-python",
   "name": "python",
   "nbconvert_exporter": "python",
   "pygments_lexer": "ipython3",
   "version": "3.9.13"
  }
 },
 "nbformat": 4,
 "nbformat_minor": 5
}
