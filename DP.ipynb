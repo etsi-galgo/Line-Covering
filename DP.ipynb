{
 "cells": [
  {
   "cell_type": "code",
   "execution_count": 1,
   "id": "827e3891",
   "metadata": {},
   "outputs": [],
   "source": [
    "import numpy as np\n",
    "import random\n",
    "import math"
   ]
  },
  {
   "cell_type": "code",
   "execution_count": 2,
   "id": "b77125b7",
   "metadata": {},
   "outputs": [],
   "source": [
    "def LineGenerate(lenght, m):\n",
    "    \"\"\"\n",
    "    Creating a line with m random segments\n",
    "    \"\"\"\n",
    "    line = np.zeros(lenght,)\n",
    "    ab = np.array(sorted(random.sample(range(0, lenght-1), m*2))) # random start and end of the segments\n",
    "    ab = ab.reshape((m,2)) # start and end of the segments coordinates\n",
    "    # positive points coordinates\n",
    "    ones = np.arange(ab[0,0],ab[0,1])\n",
    "    for i in range(1,m):\n",
    "        ones = np.concatenate((ones, np.arange(ab[i,0],ab[i,1])))\n",
    "    line[ones] = 1  # put the generated segments on the line\n",
    "    return line, ones, ab"
   ]
  },
  {
   "cell_type": "code",
   "execution_count": 3,
   "id": "883804e5",
   "metadata": {},
   "outputs": [],
   "source": [
    "# generate a line to cover\n",
    "line, ones, ab = LineGenerate(350, 15)"
   ]
  },
  {
   "cell_type": "code",
   "execution_count": 4,
   "id": "e19e7303",
   "metadata": {},
   "outputs": [],
   "source": [
    "base = np.array((0,500)) # base station coordinates\n",
    "L = 1275 # maximum tour length"
   ]
  },
  {
   "cell_type": "code",
   "execution_count": 5,
   "id": "86c0a87b",
   "metadata": {},
   "outputs": [],
   "source": [
    "# right side only\n",
    "r_line = line[base[0]:]\n",
    "r_ones=ones[np.argmax(ones>=base[0]):]-base[0]"
   ]
  },
  {
   "cell_type": "code",
   "execution_count": 6,
   "id": "2144072f",
   "metadata": {},
   "outputs": [],
   "source": [
    "def FindAssociated(c, ab, base, L):\n",
    "    # distance from the farthest point to the base\n",
    "    b = math.sqrt(c**2+base[1]**2)\n",
    "    # distance from the farthest point to greedy\n",
    "    dist = (L**2-2*L*b)/(2*(L-b-c))\n",
    "    c_ass = c-dist\n",
    "    for i in range(0,ab.shape[0]):\n",
    "        if (c_ass > ab[i-1,1]) & (c_ass < ab[i,0]):\n",
    "            c_ass = ab[i,0]\n",
    "        if (c_ass < ab[0,0]):\n",
    "            c_ass = ab[0,0]  \n",
    "    return c_ass"
   ]
  },
  {
   "cell_type": "code",
   "execution_count": 7,
   "id": "cc8f00be",
   "metadata": {},
   "outputs": [],
   "source": [
    "def Candidates(base, L, ab):\n",
    "    on_gap = False\n",
    "    xB = ab[ab.shape[0]-1,1]\n",
    "    c = np.array(xB)\n",
    "    c_ass = np.array(FindAssociated(xB, ab, base, L))\n",
    "    while not on_gap:\n",
    "        # distance from the farthest point to the base\n",
    "        b = math.sqrt(xB**2+base[1]**2)\n",
    "        # distance from the farthest point to greedy\n",
    "        dist = (L**2-2*L*b)/(2*(L-b-xB))\n",
    "        # greedy point coordinate\n",
    "        xA = xB-dist\n",
    "        ass = FindAssociated(xA, ab, base, L)  \n",
    "        c = np.append(c, xA)\n",
    "        c_ass = np.append(c_ass, ass)\n",
    "        xB = xA\n",
    "        for i in range(0,ab.shape[0]):\n",
    "            if (xA > ab[i-1,1]) & (xA < ab[i,0]):\n",
    "                on_gap = True \n",
    "            if (xA < ab[0,0]):\n",
    "                on_gap = True \n",
    "    c = c[:c.size-1]\n",
    "    c_ass = c_ass[:c_ass.size-1]\n",
    "    return c, c_ass"
   ]
  },
  {
   "cell_type": "code",
   "execution_count": 8,
   "id": "807b0e4c",
   "metadata": {},
   "outputs": [
    {
     "data": {
      "text/plain": [
       "array([221.00701596,  31.        ])"
      ]
     },
     "execution_count": 8,
     "metadata": {},
     "output_type": "execute_result"
    }
   ],
   "source": [
    "c_i, c_ass_i = Candidates(base, L, ab)\n",
    "c_ass_i"
   ]
  },
  {
   "cell_type": "code",
   "execution_count": 9,
   "id": "36ebd458",
   "metadata": {},
   "outputs": [],
   "source": [
    "def AllCandidates(base, L, ab):\n",
    "    ab_cut = ab\n",
    "    c = np.empty(0)\n",
    "    c_ass = np.empty(0)\n",
    "    while not (ab_cut.size == 0):\n",
    "        c_i, c_ass_i = Candidates(base, L, ab_cut)\n",
    "        c = np.append(c, c_i)\n",
    "        c_ass = np.append(c_ass, c_ass_i)       \n",
    "        ab_cut = ab_cut[:ab_cut.shape[0]-1]\n",
    "    return c, c_ass"
   ]
  },
  {
   "cell_type": "code",
   "execution_count": 10,
   "id": "27d8e2b7",
   "metadata": {},
   "outputs": [],
   "source": [
    "c, c_ass = AllCandidates(base, L, ab)"
   ]
  },
  {
   "cell_type": "code",
   "execution_count": 11,
   "id": "c3dead32",
   "metadata": {},
   "outputs": [],
   "source": [
    "def SegmentNumber(c, ab):\n",
    "    for i in range(0,ab.shape[0]):\n",
    "        if (c >= ab[i,0]) & (c <= ab[i,1]):\n",
    "            return i  "
   ]
  },
  {
   "cell_type": "code",
   "execution_count": 12,
   "id": "001b1d78",
   "metadata": {},
   "outputs": [],
   "source": [
    "def Recursion(c_k, ab, base, L):\n",
    "    \n",
    "    c_ass = FindAssociated(c_k, ab, base, L)\n",
    "    j = np.arange(SegmentNumber(c_ass, ab), SegmentNumber(c_k, ab)+1)   \n",
    "    if c_ass == ab[0,0]:\n",
    "        return (c_k - ab[0,0])\n",
    "    \n",
    "    elif c_ass in ab[1:,0]:\n",
    "        func = np.empty(0)\n",
    "        for i in j:\n",
    "            func = np.append(func, (c_k - ab[i,0]) + Recursion(ab[i-1,1], ab, base, L))    \n",
    "        #func1 = (c_k - ab[j,0]) + func\n",
    "        print(func)\n",
    "        return min(func)\n",
    "    \n",
    "    else: \n",
    "        func = np.empty(0)\n",
    "        for i in j:\n",
    "            func = np.append(func, (c_k - ab[i,0]) + Recursion(ab[i-1,1], ab, base, L))    \n",
    "        #func1 = (c_k - ab[j,0]) + func\n",
    "        \n",
    "        func2 = L + Recursion(c_ass, ab, base, L)\n",
    "        \n",
    "        return min(func2, min(func))"
   ]
  },
  {
   "cell_type": "code",
   "execution_count": 13,
   "id": "a14fb62a",
   "metadata": {},
   "outputs": [],
   "source": [
    "def DynamicProgramming(c, ab, base, L):\n",
    "    c = np.sort(c)\n",
    "    E = np.zeros(c.size) # check if zeros are ok\n",
    "    \n",
    "\n",
    "    for k in range(0, c.size):\n",
    "        c_ass = FindAssociated(c[k], ab, base, L)\n",
    "    \n",
    "        j = np.arange(SegmentNumber(c_ass, ab), SegmentNumber(c[k], ab)+1)  \n",
    "    \n",
    "        if c_ass == ab[0,0]:\n",
    "            E[k] = (c[k] - ab[0,0])\n",
    "            \n",
    "        elif c_ass in ab[1:,0]:\n",
    "            func = np.empty(0)\n",
    "            for i in j:\n",
    "                func = np.append(func, (c[k] - ab[i,0]) + E[c.tolist().index(ab[i-1,1])])\n",
    "            E[k] = min(func)\n",
    "    \n",
    "        else: \n",
    "            func = np.empty(0)\n",
    "            for i in j:\n",
    "                func = np.append(func, (c[k] - ab[i,0]) + E[c.tolist().index(ab[i-1,1])])      \n",
    "            func2 = L + E[c.tolist().index(c_ass)]\n",
    "            E[k] = min(func2, min(func))\n",
    "            \n",
    "    return E[c.size-1]"
   ]
  },
  {
   "cell_type": "code",
   "execution_count": 14,
   "id": "f9b8f684",
   "metadata": {},
   "outputs": [],
   "source": [
    "# generate a line to cover\n",
    "line, ones, ab = LineGenerate(350, 15)\n",
    "base = np.array((100,500)) # base station coordinates"
   ]
  },
  {
   "cell_type": "code",
   "execution_count": 15,
   "id": "9fea2d6a",
   "metadata": {},
   "outputs": [],
   "source": [
    "ab_right = ab[np.argmax(ab[:,0]>base[0]):]-base[0]\n",
    "ab_left =np.flip(base[0] - ab[:np.argmax(ab[:,0]>base[0])-1])"
   ]
  },
  {
   "cell_type": "code",
   "execution_count": 16,
   "id": "839010f8",
   "metadata": {},
   "outputs": [],
   "source": [
    "L = 1120\n",
    "c_right, _ = AllCandidates(base, L, ab_right)\n",
    "c_left, _ = AllCandidates(base, L, ab_left)\n",
    "\n",
    "c_right = np.sort(c_right)\n",
    "c_left = np.sort(c_left)"
   ]
  },
  {
   "cell_type": "code",
   "execution_count": 17,
   "id": "7a1b906a",
   "metadata": {},
   "outputs": [
    {
     "data": {
      "text/plain": [
       "170.0"
      ]
     },
     "execution_count": 17,
     "metadata": {},
     "output_type": "execute_result"
    }
   ],
   "source": [
    "Dyn_right = DynamicProgramming(c_right, ab_right, base, L)\n",
    "Dyn_right"
   ]
  },
  {
   "cell_type": "code",
   "execution_count": 18,
   "id": "a1764db3",
   "metadata": {},
   "outputs": [
    {
     "data": {
      "text/plain": [
       "42.0"
      ]
     },
     "execution_count": 18,
     "metadata": {},
     "output_type": "execute_result"
    }
   ],
   "source": [
    "Dyn_left = DynamicProgramming(c_left, ab_left, base, L)\n",
    "Dyn_left "
   ]
  },
  {
   "cell_type": "code",
   "execution_count": 19,
   "id": "96a67ac6",
   "metadata": {},
   "outputs": [],
   "source": [
    "def FindCentralTours(c_left, c_right , base, L):\n",
    "    j = 0\n",
    "    central_tours = np.empty((0,3))\n",
    "    tour_lenght = 0\n",
    "    while (tour_lenght <= L) and (j < c_left.size):\n",
    "        central_tours_1 = np.empty((0,3))\n",
    "        i = 0\n",
    "        while (tour_lenght <= L) and (i < c_right.size):\n",
    "            dist_left = math.sqrt(c_left[j]**2+base[1]**2)\n",
    "            dist_right = math.sqrt(c_right[i]**2+base[1]**2)\n",
    "            tour_lenght = c_left[j] + c_right[i] + dist_left + dist_right\n",
    "            tour = np.array((c_left[j], c_right[i], tour_lenght)).reshape(1,3)\n",
    "            central_tours_1 = np.append(central_tours_1, tour, axis=0)\n",
    "            i += 1\n",
    "        central_tours = np.append(central_tours, central_tours_1[central_tours_1[:,2]<=L,:], axis=0)\n",
    "        tour_lenght = 0\n",
    "        j += 1\n",
    "    return central_tours"
   ]
  },
  {
   "cell_type": "code",
   "execution_count": 20,
   "id": "2121b1bd",
   "metadata": {},
   "outputs": [],
   "source": [
    "central_tours = FindCentralTours(c_left, c_right , base, L)"
   ]
  },
  {
   "cell_type": "code",
   "execution_count": 21,
   "id": "eb1ede54",
   "metadata": {},
   "outputs": [],
   "source": [
    "c_left_first = np.unique(np.sort(central_tours[:,0]))\n",
    "c_right_first = np.unique(np.sort(central_tours[:,1]))"
   ]
  },
  {
   "cell_type": "code",
   "execution_count": 30,
   "id": "8e1d88b3",
   "metadata": {},
   "outputs": [
    {
     "name": "stdout",
     "output_type": "stream",
     "text": [
      "[[67 69]\n",
      " [90 98]]\n",
      "[[90 98]]\n"
     ]
    }
   ],
   "source": [
    "E_left = np.zeros(c_left_first.size)\n",
    "ab_left_i = ab_left.astype(np.float32)\n",
    "for i in range(0, c_left_first.size):\n",
    "    if c_left_first[i] != ab_left_i[0,1]:\n",
    "        ab_left_i[0,0] = c_left_first[i]\n",
    "    else:\n",
    "        ab_left_i = ab_left[ab_left[:,0]>c_left_first[i]]\n",
    "    E_left[i] = DynamicProgramming(c_left[c_left>c_left_first[i]], ab_left_i, base, L)"
   ]
  },
  {
   "cell_type": "code",
   "execution_count": 32,
   "id": "e22a7577",
   "metadata": {},
   "outputs": [
    {
     "name": "stdout",
     "output_type": "stream",
     "text": [
      "[[ 39  61]\n",
      " [ 70  85]\n",
      " [ 87  94]\n",
      " [ 95 105]\n",
      " [107 129]\n",
      " [143 148]\n",
      " [153 161]\n",
      " [163 166]\n",
      " [181 229]\n",
      " [234 240]]\n"
     ]
    }
   ],
   "source": [
    "E_right = np.zeros(c_right_first.size)\n",
    "ab_right_i = ab_right.astype(np.float32)\n",
    "for i in range(0, c_right_first.size):\n",
    "    if c_right_first[i] != ab_right_i[0,1]:\n",
    "        ab_right_i[0,0] = c_right_first[i]\n",
    "    else:\n",
    "        ab_right_i = ab_right[ab_right[:,0]>c_right_first[i]]\n",
    "    E_right[i] = DynamicProgramming(c_right[c_right>c_right_first[i]], ab_right_i, base, L)"
   ]
  },
  {
   "cell_type": "code",
   "execution_count": 47,
   "id": "5bd3999c",
   "metadata": {},
   "outputs": [],
   "source": [
    "left_central = np.append(c_left_first.reshape(E_left.shape[0],1), E_left.reshape(E_left.shape[0],1), axis=1)"
   ]
  },
  {
   "cell_type": "code",
   "execution_count": 48,
   "id": "7437fd77",
   "metadata": {},
   "outputs": [],
   "source": [
    "right_central = np.append(c_right_first.reshape(E_right.shape[0],1), E_right.reshape(E_right.shape[0],1), axis=1)"
   ]
  },
  {
   "cell_type": "code",
   "execution_count": 131,
   "id": "6ba801f7",
   "metadata": {},
   "outputs": [],
   "source": [
    "totalL = np.zeros(central_tours.shape[0])\n",
    "for i in range (0,central_tours.shape[0]):\n",
    "    a = tuple(np.argwhere(left_central == central_tours[i,0])[0])\n",
    "    b = tuple(np.argwhere(right_central == central_tours[i,1])[0])\n",
    "    totalL[i] = left_central[a[0],i] + right_central[b[0],i] + float(central_tours[i,2])"
   ]
  },
  {
   "cell_type": "code",
   "execution_count": null,
   "id": "598decc1",
   "metadata": {},
   "outputs": [],
   "source": []
  }
 ],
 "metadata": {
  "kernelspec": {
   "display_name": "Python 3 (ipykernel)",
   "language": "python",
   "name": "python3"
  },
  "language_info": {
   "codemirror_mode": {
    "name": "ipython",
    "version": 3
   },
   "file_extension": ".py",
   "mimetype": "text/x-python",
   "name": "python",
   "nbconvert_exporter": "python",
   "pygments_lexer": "ipython3",
   "version": "3.9.16"
  }
 },
 "nbformat": 4,
 "nbformat_minor": 5
}
