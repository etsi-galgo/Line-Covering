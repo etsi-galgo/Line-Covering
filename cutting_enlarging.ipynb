{
 "cells": [
  {
   "cell_type": "code",
   "execution_count": 1,
   "id": "49565d8e-2b3f-4fd4-b889-0a58a0017a8c",
   "metadata": {},
   "outputs": [],
   "source": [
    "import numpy as np\n",
    "import random\n",
    "import math"
   ]
  },
  {
   "cell_type": "code",
   "execution_count": 2,
   "id": "116d87b8-3485-479d-b222-95b9d75c484c",
   "metadata": {},
   "outputs": [],
   "source": [
    "def line_generate(lenght, m):\n",
    "    \"\"\"\n",
    "    Creating a line with m random segments\n",
    "    \"\"\"\n",
    "    line = np.zeros(lenght,)\n",
    "    ab = np.array(sorted(random.sample(range(0, lenght-1), m*2))) # random start and end of the segments\n",
    "    ab = ab.reshape((m,2)) # start and end of the segments coordinates\n",
    "    # positive points coordinates\n",
    "    ones = np.arange(ab[0,0],ab[0,1])\n",
    "    for i in range(1,m):\n",
    "        ones = np.concatenate((ones, np.arange(ab[i,0],ab[i,1])))\n",
    "    line[ones] = 1  # put the generated segments on the line\n",
    "    return line, ones, ab"
   ]
  },
  {
   "cell_type": "code",
   "execution_count": 3,
   "id": "d0e16419-a57e-4684-a904-2e4b0b2fc233",
   "metadata": {},
   "outputs": [],
   "source": [
    "def segment_number(c, ab):\n",
    "    \"\"\"\n",
    "    For a point c find a segment it belongs to\n",
    "    \"\"\"\n",
    "    for i in range(0,ab.shape[0]):\n",
    "        if (c >= ab[i,0]) & (c <= ab[i,1]):\n",
    "            return i  "
   ]
  },
  {
   "cell_type": "code",
   "execution_count": 4,
   "id": "63293476-1e07-404c-a51b-5851de280feb",
   "metadata": {},
   "outputs": [],
   "source": [
    "def find_associated(c, ab, base, L):\n",
    "    \"\"\"\n",
    "    For a given point c find its associated point 𝑐′\n",
    "    \"\"\"\n",
    "    # distance from the farthest point to the base\n",
    "    b = math.sqrt(c**2+base[1]**2)\n",
    "    # distance from the farthest point to greedy\n",
    "    dist = (L**2-2*L*b)/(2*(L-b-c))\n",
    "    c_ass = c-math.floor(dist)\n",
    "    for i in range(0,ab.shape[0]):\n",
    "        if (c_ass > ab[i-1,1]) & (c_ass < ab[i,0]):\n",
    "            c_ass = ab[i,0]\n",
    "        if (c_ass < ab[0,0]):\n",
    "            c_ass = ab[0,0]  \n",
    "    return c_ass"
   ]
  },
  {
   "cell_type": "code",
   "execution_count": 5,
   "id": "31e1c6db-876b-4bcc-804a-75bcfae835a9",
   "metadata": {},
   "outputs": [],
   "source": [
    "def candidates(base, L, ab):\n",
    "    \"\"\"\n",
    "    Making the greedy jumps to find candidate points c\n",
    "    \"\"\"\n",
    "    on_gap = False\n",
    "    xB = ab[ab.shape[0]-1,1]\n",
    "    c = np.array(xB)\n",
    "    while not on_gap:\n",
    "        # distance from the farthest point to the base\n",
    "        b = math.sqrt(xB**2+base[1]**2)\n",
    "        # distance from the farthest point to greedy\n",
    "        dist = (L**2-2*L*b)/(2*(L-b-xB))\n",
    "        # greedy point coordinate\n",
    "        xA = xB-math.floor(dist)\n",
    "  #      print(\"xB\", xB)\n",
    "  #      print(\"xA\", xA)\n",
    "        c = np.append(c, xA)\n",
    "        \n",
    "        xB = xA\n",
    "        for i in range(0,ab.shape[0]):\n",
    "            if (xA > ab[i-1,1]) & (xA < ab[i,0]):\n",
    "                on_gap = True \n",
    "            if (xA < ab[0,0]):\n",
    "                on_gap = True \n",
    "    c = c[:c.size-1]\n",
    "    return c"
   ]
  },
  {
   "cell_type": "code",
   "execution_count": 6,
   "id": "60bd8dd0-1162-46a7-8fec-7877647d6db9",
   "metadata": {},
   "outputs": [],
   "source": [
    "def all_candidates(base, L, ab):\n",
    "    \"\"\"\n",
    "    Construction of the candidate set 𝐶={c_i}\n",
    "    \"\"\"    \n",
    "    ab_cut = ab\n",
    "    c = np.empty(0)\n",
    "    while not (ab_cut.size == 0):\n",
    "        c_i = candidates(base, L, ab_cut)\n",
    "        c = np.append(c, c_i)       \n",
    "        ab_cut = ab_cut[:ab_cut.shape[0]-1]\n",
    "    return c"
   ]
  },
  {
   "cell_type": "code",
   "execution_count": 7,
   "id": "21b1bd4f-ddc4-4afc-ae71-bf9c11d4a290",
   "metadata": {},
   "outputs": [],
   "source": [
    "def perimeter(point1, point2, base):\n",
    "    return max(point1, point2) - min(point1, point2) + math.sqrt(point1**2+base[1]**2) + math.sqrt(point2**2+base[1]**2)"
   ]
  },
  {
   "cell_type": "code",
   "execution_count": 8,
   "id": "46a78357-ef3c-41c8-bbe1-83f2911fb289",
   "metadata": {},
   "outputs": [],
   "source": [
    "def separate_left_right(ab, base):\n",
    "    \"\"\"\n",
    "    Separate the segment into two groups: left and right from the base\n",
    "    \"\"\"\n",
    "\n",
    "    if (ab[-1,0]>=0):\n",
    "        ab_right = ab[np.argmax(ab[:,0] > 0):]\n",
    "    else:\n",
    "        ab_right = np.empty((0,2))\n",
    "        \n",
    "    if (ab[0,1]<=0):\n",
    "        ab_left = -np.flip(ab[:np.argmax(ab[:,1] > 0)])\n",
    "    else:\n",
    "        ab_left = np.empty((0,2))       \n",
    "    \n",
    "    \n",
    "    for i in range(0,ab.shape[0]):\n",
    "        if (0 > ab[i,0]) & (0 < ab[i,1]):\n",
    "            central_right = np.array([[0, ab[i,1]]])\n",
    "            central_left = -(np.array([[0,ab[i,0]]]))\n",
    "            ab_right = np.append(central_right, ab_right, axis=0)\n",
    "            ab_left = np.append(central_left, ab_left, axis=0)\n",
    "    return ab_left, ab_right"
   ]
  },
  {
   "cell_type": "code",
   "execution_count": 9,
   "id": "0f0c3b27-0308-466b-a01d-3b3407a43c27",
   "metadata": {},
   "outputs": [],
   "source": [
    "def find_central_tours(c_left, c_right , base, L):\n",
    "    \"\"\"\n",
    "    Find a set of segments that can be covered from left to right and vice versa\n",
    "    \"\"\"   \n",
    "    j = 0\n",
    "    central_tours = np.empty((0,3))\n",
    "    tour_lenght = 0\n",
    "    while (tour_lenght <= L) and (j < c_left.size):\n",
    "        central_tours_1 = np.empty((0,3))\n",
    "        i = 0\n",
    "        while (tour_lenght <= L) and (i < c_right.size):\n",
    "            dist_left = math.sqrt(c_left[j]**2+base[1]**2)\n",
    "            dist_right = math.sqrt(c_right[i]**2+base[1]**2)\n",
    "            tour_lenght = c_left[j] + c_right[i] + dist_left + dist_right\n",
    "            tour = np.array((c_left[j], c_right[i], tour_lenght)).reshape(1,3)\n",
    "            central_tours_1 = np.append(central_tours_1, tour, axis=0)\n",
    "            i += 1\n",
    "        central_tours = np.append(central_tours, central_tours_1[central_tours_1[:,2]<=L,:], axis=0)\n",
    "        tour_lenght = 0\n",
    "        j += 1\n",
    "    return central_tours"
   ]
  },
  {
   "cell_type": "code",
   "execution_count": 10,
   "id": "719b72e5-3cf4-4a11-a4ad-549a28bea007",
   "metadata": {},
   "outputs": [],
   "source": [
    "def DP_one_side(c, ab, base, L):   \n",
    "\n",
    "    \"\"\"\n",
    "    One side dynamic programming implementation\n",
    "    \"\"\"\n",
    "    c = np.sort(c)  \n",
    "    E = np.zeros(c.size) # check if zeros are ok\n",
    "    Start_Points = - np.ones((c.size,c.size)) # check if zeros are ok\n",
    "    End_Points = - np.ones((c.size,c.size))\n",
    "\n",
    "    for k in range(0, c.size):\n",
    "        c_ass = find_associated(c[k], ab, base, L)\n",
    "        \n",
    "        j = np.arange(segment_number(c_ass, ab), segment_number(c[k], ab)+1)  \n",
    "        \n",
    "        if c_ass == ab[0,0]:\n",
    "            E[k] = perimeter(c[k], ab[0,0], base)  \n",
    "\n",
    "            \n",
    "            Start_Points[k,0] = c[k]\n",
    "            End_Points[k,0] = ab[0,0]\n",
    "            \n",
    "        elif c_ass in ab[1:,0]:      \n",
    "            \n",
    "            func = np.empty(0)\n",
    "            for i in j:\n",
    "                func = np.append(func, perimeter(c[k], ab[i,0], base) + E[c.tolist().index(ab[i-1,1])])\n",
    "            E[k] = min(func)\n",
    "            index_min = np.argmin(func)+j[0]\n",
    "            \n",
    "            Start_Points[k,:] = Start_Points[c.tolist().index(ab[index_min-1,1]),:]\n",
    "            End_Points[k,:] = End_Points[c.tolist().index(ab[index_min-1,1]),:]\n",
    "                                   \n",
    "            Start_Points[k, np.argmax(Start_Points[k,:]<0)] = c[k]\n",
    "            End_Points[k, np.argmax(End_Points[k,:]<0)] = ab[index_min,0]\n",
    "    \n",
    "        else:             \n",
    "            func = np.empty(0)\n",
    "            if (c_ass < ab[segment_number(c[k], ab),0]): \n",
    "                for i in j[1:]:\n",
    "                    func = np.append(func, perimeter(c[k], ab[i,0], base) + E[c.tolist().index(ab[i-1,1])])  \n",
    "            else:\n",
    "                func = [1000000.0]\n",
    "            func2 = L + E[c.tolist().index(c_ass)]\n",
    "            \n",
    "            if (func2>min(func)):\n",
    "                index_min = np.argmin(func)+j[0]+1\n",
    "               \n",
    "                Start_Points[k,:] = Start_Points[c.tolist().index(ab[index_min-1,1]),:]\n",
    "                End_Points[k,:] = End_Points[c.tolist().index(ab[index_min-1,1]),:]\n",
    "                End_Points[k,np.argmax(End_Points[k,:]<0)] = ab[index_min,0]\n",
    "            else:\n",
    "                Start_Points[k,:] = Start_Points[c.tolist().index(c_ass),:] \n",
    "                #check\n",
    "                End_Points[k,:] = End_Points[c.tolist().index(c_ass),:] \n",
    "                End_Points[k,np.argmax(End_Points[k,:]<0)] = c_ass\n",
    "                \n",
    "            Start_Points[k,np.argmax(Start_Points[k,:]<0)] = c[k]                    \n",
    "            E[k] = min(func2, min(func))\n",
    "            \n",
    "    Start_Points = Start_Points[c.size-1]\n",
    "    End_Points = End_Points[c.size-1]\n",
    "    return E[c.size-1], Start_Points[Start_Points>=0], End_Points[End_Points>=0]"
   ]
  },
  {
   "cell_type": "code",
   "execution_count": 11,
   "id": "34bd483b-2e4c-4bad-acc2-4e090d32a0de",
   "metadata": {},
   "outputs": [],
   "source": [
    "def all_left_right_DP(c, c_first, ab, base, L):\n",
    "    \"\"\"\n",
    "    Go through all the options and do one side DP removing the central segment\n",
    "    \"\"\"\n",
    "    E = np.zeros(c_first.size)\n",
    "    StartPoints = np.zeros((c_first.size,c.size))\n",
    "    EndPoints = np.zeros((c_first.size,c.size))\n",
    "    ab_i = ab.astype(np.float64)\n",
    "    for i in range(0, c_first.size):\n",
    "        if c_first[i] != ab_i[0,1]:\n",
    "            ab_i[0,0] = c_first[i]\n",
    "        else:\n",
    "            ab_i = ab[ab[:,0]>c_first[i]].astype(np.float64)\n",
    "        if (c[c>c_first[i]].size != 0):\n",
    "            E[i],  Start_Points, End_Points = DP_one_side(c[c>c_first[i]], ab_i, base, L) \n",
    "            StartPoints[i,:Start_Points.size] = Start_Points\n",
    "            EndPoints[i,:End_Points.size] = End_Points\n",
    "            \n",
    "        else: E[i] = 0\n",
    "    return E, StartPoints, EndPoints"
   ]
  },
  {
   "cell_type": "code",
   "execution_count": 12,
   "id": "9c9eb2fd-a948-45dc-b5e8-5576c91799bc",
   "metadata": {},
   "outputs": [],
   "source": [
    "def join_tours(StartPoints, EndPoints):\n",
    "    \"\"\"\n",
    "    Save right and left points of the tours together in one array\n",
    "    \"\"\"  \n",
    "    Start = np.array([StartPoints[StartPoints>=0]])\n",
    "    End = np.array([EndPoints[EndPoints>=0]])\n",
    "    Tour = np.append(Start, End, axis = 0)\n",
    "    idx = np.argwhere(np.all(Tour[..., :] == 0, axis=0))\n",
    "    \n",
    "    return np.delete(Tour, idx, axis=1)"
   ]
  },
  {
   "cell_type": "code",
   "execution_count": 13,
   "id": "72e666d2-a59e-491c-9cea-6affd7b8b037",
   "metadata": {},
   "outputs": [],
   "source": [
    "def DP_both_sides(ab, base, L):\n",
    "    \"\"\"\n",
    "    Full DP solution with all comparisons near the projection point\n",
    "    \"\"\"  \n",
    "    \n",
    "    ab_left, ab_right = separate_left_right(ab, base)\n",
    "    \n",
    "    c_right = np.sort(all_candidates(base, L, ab_right))\n",
    "    c_left =  np.sort(all_candidates(base, L, ab_left))\n",
    "    \n",
    "    \n",
    "    central_tours = find_central_tours(c_left, c_right , base, L)\n",
    "    \n",
    "    \n",
    "    if not (central_tours.size == 0):  \n",
    "        c_left_first = np.unique(np.sort(central_tours[:,0]))\n",
    "        c_right_first = np.unique(np.sort(central_tours[:,1]))   \n",
    "        \n",
    "        \n",
    "        E_left, StartPoints_left, EndPoints_left = all_left_right_DP(c_left, c_left_first, ab_left, base, L)\n",
    "        E_right, StartPoints_right, EndPoints_right = all_left_right_DP(c_right, c_right_first, ab_right, base, L)\n",
    "        \n",
    "        \n",
    "        left_central = np.append(c_left_first.reshape(E_left.shape[0],1), E_left.reshape(E_left.shape[0],1), axis=1)\n",
    "        right_central = np.append(c_right_first.reshape(E_right.shape[0],1), E_right.reshape(E_right.shape[0],1), axis=1)\n",
    "      \n",
    "        \n",
    "      \n",
    "        totalL = np.zeros(central_tours.shape[0])\n",
    "        for i in range (0, central_tours.shape[0]):\n",
    "            a = tuple(np.argwhere(left_central == central_tours[i,0])[0])\n",
    "            b = tuple(np.argwhere(right_central == central_tours[i,1])[0])\n",
    "            totalL[i] = left_central[a[0],1] + right_central[b[0],1] + float(central_tours[i,2])\n",
    "        \n",
    "        c = tuple(np.argwhere(left_central == central_tours[np.argmin(totalL),0])[0])\n",
    "        d = tuple(np.argwhere(right_central == central_tours[np.argmin(totalL),1])[0])\n",
    "    else: \n",
    "        totalL = np.array([100000000])\n",
    "\n",
    "    E_left_max, StartPoints_left_max, EndPoints_left_max = DP_one_side(c_left, ab_left, base, L)\n",
    "    E_right_max, StartPoints_right_max, EndPoints_right_max = DP_one_side(c_right, ab_right, base, L)\n",
    "    \n",
    "    \n",
    "    if (E_left_max + E_right_max) <= min(totalL):\n",
    "        Tour_right = join_tours(StartPoints_right_max, EndPoints_right_max)\n",
    "        Tour_right = Tour_right[ ::-1, :]\n",
    "        Tour_left = -join_tours(StartPoints_left_max, EndPoints_left_max)\n",
    "\n",
    "\n",
    "        Tour = np.append(np.flip(Tour_left,1), Tour_right, axis = 1)\n",
    "        \n",
    "    else:  \n",
    "        Tour_right = join_tours(StartPoints_right[d[0]], EndPoints_right[d[0]])\n",
    "        Tour_right = Tour_right[ ::-1, :]\n",
    "        Tour_left = -join_tours(StartPoints_left[c[0]], EndPoints_left[c[0]])\n",
    "        Tour_central = np.array([[-central_tours[np.argmin(totalL),0], central_tours[np.argmin(totalL),1] ]]).reshape((2, 1))\n",
    "        \n",
    "        Tour = np.append(np.flip(Tour_left,1), Tour_central, axis = 1)\n",
    "        Tour = np.append(Tour, Tour_right, axis = 1)\n",
    "        \n",
    "    TotalLenght = min((E_left_max + E_right_max), min(totalL)) \n",
    "    TotalLenght_calc = 0\n",
    "    for i in range(Tour.shape[1]):\n",
    "        print('Tour', i+1, 'start:', Tour[0,i])\n",
    "        print('Tour', i+1, 'end:', Tour[1,i])\n",
    "        print('Tour', i+1, 'length:', perimeter(Tour[0,i], Tour[1,i], base))\n",
    "        TotalLenght_calc+=perimeter(Tour[0,i], Tour[1,i], base)\n",
    "    print('Total number of tours:', Tour.shape[1])\n",
    "    \n",
    "    print('Total length:', TotalLenght)\n",
    "    print('Check:', TotalLenght_calc==TotalLenght)\n",
    "    \n",
    "    return Tour, TotalLenght  "
   ]
  },
  {
   "cell_type": "code",
   "execution_count": 14,
   "id": "b744d855-1489-401a-b8b6-0bde6c0002a3",
   "metadata": {},
   "outputs": [],
   "source": [
    "def distance(point, y_base):\n",
    "    \"\"\"\n",
    "    Distances to the base station\n",
    "    \"\"\"\n",
    "    dist = math.sqrt(point**2+y_base**2)\n",
    "    return dist "
   ]
  },
  {
   "cell_type": "code",
   "execution_count": 15,
   "id": "1bad24e4-93d0-46cf-aef3-8b5c74159179",
   "metadata": {},
   "outputs": [],
   "source": [
    "def tour_lenght(tour, y_base):\n",
    "    dist_left = distance(tour[0],y_base)\n",
    "    dist_right = distance(tour[1],y_base)\n",
    "    lenght = abs(tour[0]-tour[1]) + dist_left + dist_right\n",
    "    return lenght"
   ]
  },
  {
   "cell_type": "code",
   "execution_count": 16,
   "id": "92e6264c-ec87-4e65-88d8-0dacfcd2f2fa",
   "metadata": {},
   "outputs": [],
   "source": [
    "def total_lenght(t_set, y_base):\n",
    "    sum=0\n",
    "    for t in t_set:\n",
    "        sum += tour_lenght(t, y_base)\n",
    "    return sum   "
   ]
  },
  {
   "cell_type": "code",
   "execution_count": 17,
   "id": "71ef9471-3a6e-4857-b3ab-c9591deae156",
   "metadata": {},
   "outputs": [],
   "source": [
    "def to_the_min_disribution(Tour, y_base):\n",
    "    m = Tour.shape[0]-1\n",
    "    \n",
    "    Tour1 = np.empty(0)\n",
    "    Tour2 = np.empty(0)\n",
    "    l1 = 0\n",
    "    l2 = 0\n",
    "    \n",
    "    \n",
    "    while Tour.size>1:\n",
    "        #Find the farthest tour from the base:\n",
    "        if distance(Tour[0,0],base[1]) >= distance(Tour[m,1],y_base):\n",
    "            farthest_tour = Tour[0]\n",
    "            Tour = Tour[1:]\n",
    "        else:\n",
    "            farthest_tour = Tour[m]\n",
    "            Tour = Tour[:m]\n",
    "        m -= 1\n",
    "        \n",
    "        #Add the farthest tour to the smallest set\n",
    "        if l1 < l2:\n",
    "            Tour1 = np.append(Tour1, farthest_tour)\n",
    "            l1 += tour_lenght(farthest_tour, y_base)\n",
    "        else:\n",
    "            Tour2 = np.append(Tour2, farthest_tour)\n",
    "            l2 += tour_lenght(farthest_tour, y_base)\n",
    "        \n",
    "    Tour1 = Tour1.reshape(Tour1.shape[0]//2,2)\n",
    "    Tour2 = Tour2.reshape(Tour2.shape[0]//2,2)\n",
    "\n",
    "    # Make Tour2 always be the biggest\n",
    "    if l1 > l2:\n",
    "        Tour1, Tour2 = Tour2, Tour1\n",
    "        l1, l2 = l2, l1\n",
    "\n",
    "    print(\"T1 =\", Tour1)\n",
    "    print(\"T1 total length: l1 =\", l1)\n",
    "    print(\"T2 =\",Tour2)\n",
    "    print(\"T2 total length: l2 =\", l2)   \n",
    "    return Tour1, Tour2, l1, l2    "
   ]
  },
  {
   "cell_type": "code",
   "execution_count": 18,
   "id": "4f5a4505-1c93-41de-89b9-f9df028dc1a9",
   "metadata": {},
   "outputs": [],
   "source": [
    "def big_bro(t):\n",
    "    # Find a tour tour just one point bigger than a given\n",
    "    if (t[0]>0) and (t[1]>0): \n",
    "        return [t[0]-1, t[1]]\n",
    "    if (t[0]<0) and (t[1]<0): \n",
    "        return [t[0], t[1]+1]\n",
    "    if (t[0]<0) and (t[1]>0): \n",
    "        if abs(t[0])>abs(t[1]):\n",
    "            return [t[0], t[1]+1]\n",
    "        else:\n",
    "            return [t[0]-1, t[1]]"
   ]
  },
  {
   "cell_type": "code",
   "execution_count": 19,
   "id": "de4f468f-4c5c-4071-b98c-63d3a0cc30a3",
   "metadata": {},
   "outputs": [],
   "source": [
    "def candidates_to_enlarge(T1, T2, y_base):\n",
    "    T_en_left = np.empty(0)\n",
    "    T_en_right = np.empty(0)\n",
    "    for t1 in T1:\n",
    "        for t2 in T2:\n",
    "            if (t1[0]<0) and (t1[0]==t2[1]) and (tour_lenght(big_bro(t2), y_base)>L) and (tour_lenght(big_bro(t1), y_base)<L):\n",
    "                T_en_left = np.append(T_en_left, t1)\n",
    "                T_en_left = T_en_left.reshape(T_en_left.shape[0]//2,2)\n",
    "            if (t1[1]>0) and (t1[1]==t2[0]) and (tour_lenght(big_bro(t2), y_base)>L) and (tour_lenght(big_bro(t1), y_base)<L):\n",
    "                T_en_right = np.append(T_en_right, t1)\n",
    "                T_en_right = T_en_right.reshape(T_en_right.shape[0]//2,2)\n",
    "                \n",
    "    return T_en_left, T_en_right"
   ]
  },
  {
   "cell_type": "code",
   "execution_count": 20,
   "id": "2fac53df-1453-4dfc-84bf-5e30754c90f7",
   "metadata": {},
   "outputs": [],
   "source": [
    "def cutting_improvement(t, l, y_base):\n",
    "    c = distance(t[0], y_base)\n",
    "    f = distance(t[1], y_base)\n",
    "    s = t[1]-t[0]\n",
    "\n",
    "    #Option 1: Left tour for T1\n",
    "    x1 = (l-c*2)/2\n",
    "    d1 = distance(t[0]+x1, y_base)\n",
    "    r1 = d1 - c - x1\n",
    "\n",
    "    #Option 2: Left tour for T2\n",
    "    x2 = (s*2+f*2-l)/2\n",
    "    d2 = distance(t[0]+x2, y_base)\n",
    "    r2 = d2 - s - f + x2\n",
    "\n",
    "    if r2<r1:\n",
    "        return x2,r2,2\n",
    "    else:\n",
    "        return x1,r1,1"
   ]
  },
  {
   "cell_type": "code",
   "execution_count": 21,
   "id": "5f93df36-0147-47fe-8faa-0810db21d46b",
   "metadata": {},
   "outputs": [],
   "source": [
    "def enlarging_improvement(farthest, closest, l, L, y_base):\n",
    "    x = l/2\n",
    "    f = distance(farthest, y_base)\n",
    "    d = distance(farthest+x, y_base)\n",
    "    c = distance(closest, y_base)\n",
    "    \n",
    "    if (farthest+x-closest+c+d > L):\n",
    "        dist = 0.5*(L**2-2*L*c)/(closest+L-c)\n",
    "        x=dist+closest-farthest\n",
    "        d = distance(farthest+x, y_base)\n",
    "    s = d-f-x\n",
    "    \n",
    "    return x,s"
   ]
  },
  {
   "cell_type": "code",
   "execution_count": 22,
   "id": "1e8d40b0-c928-4f1a-a79b-c9f571db95ce",
   "metadata": {},
   "outputs": [],
   "source": [
    "# Step 0: Generate a random line\n",
    "line, ones, ab = line_generate(400, 3)\n",
    "base = np.array((200,20000)) # base station coordinates\n",
    "L =  2*math.sqrt((max(base[0], 400-base[0]))**2+base[1]**2)+15"
   ]
  },
  {
   "cell_type": "code",
   "execution_count": 23,
   "id": "263d2aa4-f7e3-4a09-8338-24dc2f034044",
   "metadata": {},
   "outputs": [
    {
     "data": {
      "text/plain": [
       "40016.9999500025"
      ]
     },
     "execution_count": 23,
     "metadata": {},
     "output_type": "execute_result"
    }
   ],
   "source": [
    "L"
   ]
  },
  {
   "cell_type": "code",
   "execution_count": 24,
   "id": "4cda141e-1bba-4a0a-826c-b0f7a6cd59f0",
   "metadata": {},
   "outputs": [
    {
     "data": {
      "text/plain": [
       "array([[181, 223],\n",
       "       [225, 265],\n",
       "       [314, 336]])"
      ]
     },
     "execution_count": 24,
     "metadata": {},
     "output_type": "execute_result"
    }
   ],
   "source": [
    "ab"
   ]
  },
  {
   "cell_type": "code",
   "execution_count": 25,
   "id": "c8761e71-5ac2-48c8-bb2e-c58bf6e451ef",
   "metadata": {},
   "outputs": [
    {
     "name": "stdout",
     "output_type": "stream",
     "text": [
      "Tour 1 start: -19.0\n",
      "Tour 1 end: -3.0\n",
      "Tour 1 length: 40016.009249997966\n",
      "Tour 2 start: -3.0\n",
      "Tour 2 end: 7.0\n",
      "Tour 2 length: 40010.00144999997\n",
      "Tour 3 start: 7.0\n",
      "Tour 3 end: 23.0\n",
      "Tour 3 length: 40016.01444999559\n",
      "Tour 4 start: 25.0\n",
      "Tour 4 end: 33.0\n",
      "Tour 4 length: 40008.04284997536\n",
      "Tour 5 start: 33.0\n",
      "Tour 5 end: 49.0\n",
      "Tour 5 length: 40016.087249891396\n",
      "Tour 6 start: 49.0\n",
      "Tour 6 end: 65.0\n",
      "Tour 6 length: 40016.16564963102\n",
      "Tour 7 start: 114.0\n",
      "Tour 7 end: 120.0\n",
      "Tour 7 length: 40006.6848941211\n",
      "Tour 8 start: 120.0\n",
      "Tour 8 end: 136.0\n",
      "Tour 8 length: 40016.82239141484\n",
      "Total number of tours: 8\n",
      "Total length: 320107.7527440975\n",
      "Check: False\n"
     ]
    }
   ],
   "source": [
    "# Step 1: MinSum solution with DP\n",
    "Tour, TotalLenght = DP_both_sides(ab-base[0], base, L)\n",
    "Tour = np.transpose(Tour)"
   ]
  },
  {
   "cell_type": "code",
   "execution_count": 26,
   "id": "a9c406f0-db88-4ad1-aebc-35fa3ca9d600",
   "metadata": {},
   "outputs": [
    {
     "name": "stdout",
     "output_type": "stream",
     "text": [
      "T1 = [[114. 120.]\n",
      " [ 49.  65.]\n",
      " [ 25.  33.]\n",
      " [-19.  -3.]]\n",
      "T1 total length: l1 = 160046.90264372545\n",
      "T2 = [[120. 136.]\n",
      " [ 33.  49.]\n",
      " [  7.  23.]\n",
      " [ -3.   7.]]\n",
      "T2 total length: l2 = 160058.92554130178\n"
     ]
    }
   ],
   "source": [
    "# Step 2: Distribute T between two sets T1  y T2  such as l(T2)>l(T1)\n",
    "Tour1, Tour2, l1, l2 = to_the_min_disribution(Tour, base[1])"
   ]
  },
  {
   "cell_type": "code",
   "execution_count": 27,
   "id": "52ea235a-9131-4408-baa2-f51060c602e7",
   "metadata": {},
   "outputs": [],
   "source": [
    "# Step 3: Get the sets of candidates to enlarge:\n",
    "T_enlarge_left, T_enlarge_right = candidates_to_enlarge(Tour1, Tour2, base[1])"
   ]
  },
  {
   "cell_type": "code",
   "execution_count": 28,
   "id": "6569ceae-0f30-42c0-af53-70d511ae9650",
   "metadata": {},
   "outputs": [
    {
     "data": {
      "text/plain": [
       "array([[114., 120.],\n",
       "       [ 25.,  33.]])"
      ]
     },
     "execution_count": 28,
     "metadata": {},
     "output_type": "execute_result"
    }
   ],
   "source": [
    "T_enlarge_right"
   ]
  },
  {
   "cell_type": "code",
   "execution_count": 29,
   "id": "fb7f8825-7e3e-440e-aed2-1f1f9e1159e7",
   "metadata": {},
   "outputs": [
    {
     "name": "stdout",
     "output_type": "stream",
     "text": [
      "[114.         120.           6.01144879  -5.97447736   3.\n",
      "  25.          33.           6.01144879  -6.00062648   3.        ]\n",
      "_____________________\n",
      "[ 1.14000000e+02  1.20000000e+02  1.14487882e-02 -1.13800934e-02\n",
      "  3.00000000e+00]\n",
      "_____________________\n",
      "[]\n"
     ]
    }
   ],
   "source": [
    "# Step 4: Improve until l(T2)=l(T1)\n",
    "l= l2-l1\n",
    "while l>0:\n",
    "    Table = np.empty(0)\n",
    "    T_cut = np.empty(0)\n",
    "    # Get the set of candidates to cut:\n",
    "    for t2 in Tour2:\n",
    "        if (distance(t2[1], base[1]) + distance(t2[0], base[1]))<l:\n",
    "            T_cut = np.append(T_cut, t2)\n",
    "            T_cut = T_cut.reshape(T_cut.shape[0]//2,2)\n",
    "            \n",
    "    # Find the improvement after each possible cutting\n",
    "    for t in T_cut:\n",
    "        x_cut, d_cut, idx = cutting_improvement(t,l, base[1])\n",
    "        Table = np.append(Table, np.array([t[0],t[1], x_cut, d_cut, idx]))\n",
    "    \n",
    "    # Find the improvement after each possible enlarging\n",
    "    for t in T_enlarge_right:\n",
    "        farthest = abs(t[1])\n",
    "        closest = abs(t[0])\n",
    "        x_enlarge_right, d_enlarge_right  = enlarging_improvement(farthest, closest,l, L, base[1])\n",
    "        Table = np.append(Table, np.array([t[0],t[1], x_enlarge_right, d_enlarge_right, 3]))\n",
    "        \n",
    "    for t in T_enlarge_left:\n",
    "        farthest = abs(t[0])\n",
    "        closest = abs(t[1])\n",
    "        x_enlarge_left, d_enlarge_left  = enlarging_improvement(farthest, closest,l,L, base[1])\n",
    "        Table = np.append(Table, np.array([t[0],t[1], x_enlarge_left, d_enlarge_left, 4]))\n",
    "        \n",
    "    print(Table)\n",
    "    if Table.size == 0:\n",
    "        break\n",
    "    Table = Table.reshape(Table.shape[0]//5,5)\n",
    "    \n",
    "    \n",
    "    for tab in Table:\n",
    "        if tab[3]==min(Table[:,3]):\n",
    "            winner = tab\n",
    "    \n",
    "    win_tour = np.transpose([winner[0],winner[1]])\n",
    "    \n",
    "    # Apply cutting\n",
    "    if winner[4]==1:\n",
    "        for t2 in Tour2:\n",
    "            if t2[0] == win_tour[0]:\n",
    "                start = t2[0]\n",
    "                t2[0] = t2[0]+np.round(winner[2])\n",
    "                Tour1 = np.append(Tour1, [start, t2[0]])\n",
    "                Tour1 = Tour1.reshape(Tour1.shape[0]//2,2)\n",
    "\n",
    "    if winner[4]==2:\n",
    "        for t2 in Tour2:\n",
    "            if t2[0] == win_tour[0]:\n",
    "                end = t2[1]\n",
    "                t2[1] = t2[0]+np.round(winner[2])\n",
    "                Tour1 = np.append(Tour1, [t2[1], end])\n",
    "                Tour1 = Tour1.reshape(Tour1.shape[0]//2,2)    \n",
    "\n",
    "    # Apply enlarging\n",
    "    if winner[4]==3:\n",
    "        for t1 in Tour1:\n",
    "            for t2 in Tour2:\n",
    "                if (t1[0]==winner[0]) and (t1[1]==t2[0]):\n",
    "                    t1[1] = t1[1]+np.floor(winner[2])\n",
    "                    t2[0] = t2[0]+np.floor(winner[2])\n",
    "                    # Remove t1 from the set T_enlarge_right\n",
    "                    for i in range(T_enlarge_right.shape[0]):\n",
    "                        if T_enlarge_right[i,0]==t1[0]:\n",
    "                            T_enlarge_right = np.delete(T_enlarge_right, i,0)\n",
    "                     \n",
    "    if winner[4]==4:\n",
    "        for t1 in Tour1:\n",
    "            for t2 in Tour2:\n",
    "                 if (t1[0]==winner[0]) and (t1[0]==t2[1]):\n",
    "                     t1[0] = t1[0]-np.floor(winner[2])\n",
    "                     t2[1] = t2[1]-np.floor(winner[2])\n",
    "                     # Remove t1 from the set T_enlarge_left\n",
    "                     for i in range(T_enlarge_left.shape[0]):\n",
    "                         if T_enlarge_left[i,1]==t1[1]:\n",
    "                             T_enlarge_left = np.delete(T_enlarge_left, i,0)\n",
    "                \n",
    "    l1 = total_lenght(Tour1, base[1])\n",
    "    l2 = total_lenght(Tour2, base[1])\n",
    "    l= l2-l1\n",
    "    print(\"_____________________\")"
   ]
  },
  {
   "cell_type": "code",
   "execution_count": 30,
   "id": "726882c0-4dea-414c-963a-fa511086a5cc",
   "metadata": {},
   "outputs": [
    {
     "data": {
      "text/plain": [
       "array([], dtype=float64)"
      ]
     },
     "execution_count": 30,
     "metadata": {},
     "output_type": "execute_result"
    }
   ],
   "source": [
    "Table"
   ]
  },
  {
   "cell_type": "code",
   "execution_count": 31,
   "id": "1dd6559b-6101-4893-b8f6-4ceac3573840",
   "metadata": {},
   "outputs": [
    {
     "data": {
      "text/plain": [
       "0.022897576389368623"
      ]
     },
     "execution_count": 31,
     "metadata": {},
     "output_type": "execute_result"
    }
   ],
   "source": [
    "l"
   ]
  },
  {
   "cell_type": "code",
   "execution_count": 32,
   "id": "8fb27200-0fcf-4f8d-a047-f168b3181143",
   "metadata": {},
   "outputs": [
    {
     "data": {
      "text/plain": [
       "array([[120., 136.],\n",
       "       [ 39.,  49.],\n",
       "       [  7.,  23.],\n",
       "       [ -3.,   7.]])"
      ]
     },
     "execution_count": 32,
     "metadata": {},
     "output_type": "execute_result"
    }
   ],
   "source": [
    "Tour2"
   ]
  },
  {
   "cell_type": "code",
   "execution_count": 33,
   "id": "51d94cc1-c1e9-4db8-92ee-ac29a4e58bea",
   "metadata": {},
   "outputs": [
    {
     "data": {
      "text/plain": [
       "array([[114., 120.],\n",
       "       [ 49.,  65.],\n",
       "       [ 25.,  39.],\n",
       "       [-19.,  -3.]])"
      ]
     },
     "execution_count": 33,
     "metadata": {},
     "output_type": "execute_result"
    }
   ],
   "source": [
    "Tour1"
   ]
  },
  {
   "cell_type": "code",
   "execution_count": 34,
   "id": "aeda03ca-d4ff-436e-88a4-9b92b36b578a",
   "metadata": {},
   "outputs": [
    {
     "data": {
      "text/plain": [
       "160052.9363412842"
      ]
     },
     "execution_count": 34,
     "metadata": {},
     "output_type": "execute_result"
    }
   ],
   "source": [
    "l2"
   ]
  },
  {
   "cell_type": "code",
   "execution_count": 35,
   "id": "8aafc8d5-f667-4c35-87b2-8ed9e4dc98bd",
   "metadata": {},
   "outputs": [],
   "source": [
    "l1 = total_lenght(Tour1, base[1])\n",
    "l2 = total_lenght(Tour2, base[1])"
   ]
  },
  {
   "cell_type": "code",
   "execution_count": 36,
   "id": "4a2fc5d8-38ee-4156-bbd1-7184b8c2d1aa",
   "metadata": {},
   "outputs": [
    {
     "data": {
      "text/plain": [
       "array([], dtype=float64)"
      ]
     },
     "execution_count": 36,
     "metadata": {},
     "output_type": "execute_result"
    }
   ],
   "source": [
    "T_enlarge_left"
   ]
  },
  {
   "cell_type": "code",
   "execution_count": 37,
   "id": "cebcd94f-7afb-43d0-ad3e-b4e8466fa935",
   "metadata": {},
   "outputs": [
    {
     "ename": "IndexError",
     "evalue": "index 2 is out of bounds for axis 0 with size 0",
     "output_type": "error",
     "traceback": [
      "\u001b[1;31m---------------------------------------------------------------------------\u001b[0m",
      "\u001b[1;31mIndexError\u001b[0m                                Traceback (most recent call last)",
      "Cell \u001b[1;32mIn[37], line 1\u001b[0m\n\u001b[1;32m----> 1\u001b[0m \u001b[43mnp\u001b[49m\u001b[38;5;241;43m.\u001b[39;49m\u001b[43mdelete\u001b[49m\u001b[43m(\u001b[49m\u001b[43mT_enlarge_left\u001b[49m\u001b[43m,\u001b[49m\u001b[43m \u001b[49m\u001b[38;5;241;43m2\u001b[39;49m\u001b[43m,\u001b[49m\u001b[43m \u001b[49m\u001b[38;5;241;43m0\u001b[39;49m\u001b[43m)\u001b[49m\n",
      "File \u001b[1;32m~\\.conda\\envs\\MILP\\lib\\site-packages\\numpy\\lib\\function_base.py:5330\u001b[0m, in \u001b[0;36mdelete\u001b[1;34m(arr, obj, axis)\u001b[0m\n\u001b[0;32m   5327\u001b[0m \u001b[38;5;28;01mif\u001b[39;00m single_value:\n\u001b[0;32m   5328\u001b[0m     \u001b[38;5;66;03m# optimization for a single value\u001b[39;00m\n\u001b[0;32m   5329\u001b[0m     \u001b[38;5;28;01mif\u001b[39;00m (obj \u001b[38;5;241m<\u001b[39m \u001b[38;5;241m-\u001b[39mN \u001b[38;5;129;01mor\u001b[39;00m obj \u001b[38;5;241m>\u001b[39m\u001b[38;5;241m=\u001b[39m N):\n\u001b[1;32m-> 5330\u001b[0m         \u001b[38;5;28;01mraise\u001b[39;00m \u001b[38;5;167;01mIndexError\u001b[39;00m(\n\u001b[0;32m   5331\u001b[0m             \u001b[38;5;124m\"\u001b[39m\u001b[38;5;124mindex \u001b[39m\u001b[38;5;132;01m%i\u001b[39;00m\u001b[38;5;124m is out of bounds for axis \u001b[39m\u001b[38;5;132;01m%i\u001b[39;00m\u001b[38;5;124m with \u001b[39m\u001b[38;5;124m\"\u001b[39m\n\u001b[0;32m   5332\u001b[0m             \u001b[38;5;124m\"\u001b[39m\u001b[38;5;124msize \u001b[39m\u001b[38;5;132;01m%i\u001b[39;00m\u001b[38;5;124m\"\u001b[39m \u001b[38;5;241m%\u001b[39m (obj, axis, N))\n\u001b[0;32m   5333\u001b[0m     \u001b[38;5;28;01mif\u001b[39;00m (obj \u001b[38;5;241m<\u001b[39m \u001b[38;5;241m0\u001b[39m):\n\u001b[0;32m   5334\u001b[0m         obj \u001b[38;5;241m+\u001b[39m\u001b[38;5;241m=\u001b[39m N\n",
      "\u001b[1;31mIndexError\u001b[0m: index 2 is out of bounds for axis 0 with size 0"
     ]
    }
   ],
   "source": [
    "np.delete(T_enlarge_left, 2, 0)"
   ]
  }
 ],
 "metadata": {
  "kernelspec": {
   "display_name": "Python 3 (ipykernel)",
   "language": "python",
   "name": "python3"
  },
  "language_info": {
   "codemirror_mode": {
    "name": "ipython",
    "version": 3
   },
   "file_extension": ".py",
   "mimetype": "text/x-python",
   "name": "python",
   "nbconvert_exporter": "python",
   "pygments_lexer": "ipython3",
   "version": "3.9.18"
  }
 },
 "nbformat": 4,
 "nbformat_minor": 5
}
